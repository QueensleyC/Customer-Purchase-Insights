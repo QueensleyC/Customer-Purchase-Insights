{
 "cells": [
  {
   "cell_type": "markdown",
   "id": "a429d274",
   "metadata": {},
   "source": [
    "![](shopping.jpeg)"
   ]
  },
  {
   "cell_type": "markdown",
   "id": "5270a61b",
   "metadata": {},
   "source": [
    "# Introduction"
   ]
  },
  {
   "cell_type": "markdown",
   "id": "6762b88a",
   "metadata": {},
   "source": [
    "In the bustling world of retail, especially in grocery stores, understanding consumer preferences and shopping habits is pivotal for business optimization.\n",
    "\n",
    "For a local grocery chain seeking to enhance customer satisfaction and drive sales I will analyze transactional data from two of its 24-hour stores, each with unique data storage practices due to the store owners' diverse backgrounds, the chain aims to uncover hidden patterns in consumer behavior.\n",
    "\n",
    "The goal here is multifaceted: \n",
    "\n",
    "1. optimizing store layouts\n",
    "2. tailoring marketing strategies\n",
    "3. efficiently managing inventory to align with customer preferences. \n",
    "\n",
    "For instance, if analysis reveals that customers frequently purchase certain products together or show a preference for shopping at specific hours, the store can adjust its marketing efforts and stock levels accordingly. \n",
    "\n",
    "Additionally, understanding seasonal trends and weekly fluctuations in sales helps in planning promotions and staffing. Acting as the retail data scientist for this chain, I'll leverage detailed retail data to drive strategic decisions, ultimately enhancing customer experience and boosting the store's performance. \n",
    "\n",
    "The datasets `grocery_data1.csv` and `grocery_data2.csv` contain detailed records of grocery transactions from these two stores with the same column names:\n",
    "\n",
    "| Variable         | Description                                           |\n",
    "|------------------|-------------------------------------------------------|\n",
    "| `CustomerID`     | Unique identifier for each customer                   |\n",
    "| `DateRaw`        | Raw date of the transaction                           |\n",
    "| `Time`           | Time of the transaction                               |\n",
    "| `TransactionID`  | Unique identifier for each transaction                |\n",
    "| `ProductName`    | Name of the product purchased                         |\n",
    "| `PriceUSD`       | Price of the product in US dollars                    |\n",
    "| `Quantity`       | Number of the product purchased                     |\n",
    "| `PaymentMethod`  | Payment type used for the transaction               |\n",
    "| `Category`       | Category of the product                               |\n"
   ]
  },
  {
   "cell_type": "markdown",
   "id": "77e89a73",
   "metadata": {},
   "source": [
    "\n",
    "I started by installing and importing the required packages"
   ]
  },
  {
   "cell_type": "code",
   "execution_count": 103,
   "id": "58e6a84e",
   "metadata": {},
   "outputs": [],
   "source": [
    "if (!requireNamespace(\"lubridate\", quietly = TRUE)) install.packages(\"lubridate\")"
   ]
  },
  {
   "cell_type": "code",
   "execution_count": 104,
   "id": "ef507575",
   "metadata": {},
   "outputs": [],
   "source": [
    "# Import required packages\n",
    "library(dplyr)\n",
    "library(lubridate)\n",
    "library(readr)\n",
    "library(ggplot2)"
   ]
  },
  {
   "cell_type": "markdown",
   "id": "b196a292",
   "metadata": {},
   "source": [
    "Next, I loaded in the sythetic grocery data from store 1 and store 2"
   ]
  },
  {
   "cell_type": "code",
   "execution_count": 105,
   "id": "03de6681",
   "metadata": {},
   "outputs": [
    {
     "name": "stderr",
     "output_type": "stream",
     "text": [
      "\u001b[1mRows: \u001b[22m\u001b[34m2619\u001b[39m \u001b[1mColumns: \u001b[22m\u001b[34m9\u001b[39m\n",
      "\u001b[36m──\u001b[39m \u001b[1mColumn specification\u001b[22m \u001b[36m────────────────────────────────────────────────────────────────────────────────────────────────\u001b[39m\n",
      "\u001b[1mDelimiter:\u001b[22m \",\"\n",
      "\u001b[31mchr\u001b[39m  (4): DateRaw, ProductName, PaymentMethod, Category\n",
      "\u001b[32mdbl\u001b[39m  (4): CustomerID, TransactionID, PriceUSD, Quantity\n",
      "\u001b[34mtime\u001b[39m (1): Time\n",
      "\n",
      "\u001b[36mℹ\u001b[39m Use `spec()` to retrieve the full column specification for this data.\n",
      "\u001b[36mℹ\u001b[39m Specify the column types or set `show_col_types = FALSE` to quiet this message.\n",
      "\u001b[1mRows: \u001b[22m\u001b[34m2581\u001b[39m \u001b[1mColumns: \u001b[22m\u001b[34m9\u001b[39m\n",
      "\u001b[36m──\u001b[39m \u001b[1mColumn specification\u001b[22m \u001b[36m────────────────────────────────────────────────────────────────────────────────────────────────\u001b[39m\n",
      "\u001b[1mDelimiter:\u001b[22m \",\"\n",
      "\u001b[31mchr\u001b[39m  (4): DateRaw, ProductName, PaymentMethod, Category\n",
      "\u001b[32mdbl\u001b[39m  (4): CustomerID, TransactionID, PriceUSD, Quantity\n",
      "\u001b[34mtime\u001b[39m (1): Time\n",
      "\n",
      "\u001b[36mℹ\u001b[39m Use `spec()` to retrieve the full column specification for this data.\n",
      "\u001b[36mℹ\u001b[39m Specify the column types or set `show_col_types = FALSE` to quiet this message.\n"
     ]
    }
   ],
   "source": [
    "# Load and parse the time of the grocery datasets\n",
    "grocery_data1 <- read_csv('grocery_data1.csv') %>% \n",
    "  mutate(Date = mdy(DateRaw))\n",
    "\n",
    "grocery_data2 <- read_csv('grocery_data2.csv') %>% \n",
    "  mutate(Date = dmy(DateRaw))\n",
    "\n",
    "# Merge data frames together\n",
    "grocery_data <- grocery_data1 %>% \n",
    "  bind_rows(grocery_data2)"
   ]
  },
  {
   "cell_type": "markdown",
   "id": "2bc0cda9",
   "metadata": {},
   "source": [
    "### Calculating Total Amount Spent by Customers\n",
    "\n",
    "In this step, we calculate the total amount spent on each transaction. This is achieved by multiplying the price of each item (`PriceUSD`) by the quantity purchased (`Quantity`). The resulting value, stored as `TotalSaleUSD`, represents the total expenditure for each purchase.\n",
    "\n",
    "This calculation provides insights into revenue contributions across different transactions.\n"
   ]
  },
  {
   "cell_type": "code",
   "execution_count": 106,
   "id": "2fb651ab",
   "metadata": {},
   "outputs": [],
   "source": [
    "# Obtain the total amount spent: TotalSaleUSD = PriceUSD * Quantity\n",
    "grocery_data <- grocery_data %>%\n",
    "  mutate(TotalSaleUSD = PriceUSD * Quantity)"
   ]
  },
  {
   "cell_type": "code",
   "execution_count": 107,
   "id": "0fdee721",
   "metadata": {},
   "outputs": [
    {
     "data": {
      "text/html": [
       "<table class=\"dataframe\">\n",
       "<caption>A tibble: 2 × 11</caption>\n",
       "<thead>\n",
       "\t<tr><th scope=col>CustomerID</th><th scope=col>DateRaw</th><th scope=col>Time</th><th scope=col>TransactionID</th><th scope=col>ProductName</th><th scope=col>PriceUSD</th><th scope=col>Quantity</th><th scope=col>PaymentMethod</th><th scope=col>Category</th><th scope=col>Date</th><th scope=col>TotalSaleUSD</th></tr>\n",
       "\t<tr><th scope=col>&lt;dbl&gt;</th><th scope=col>&lt;chr&gt;</th><th scope=col>&lt;time&gt;</th><th scope=col>&lt;dbl&gt;</th><th scope=col>&lt;chr&gt;</th><th scope=col>&lt;dbl&gt;</th><th scope=col>&lt;dbl&gt;</th><th scope=col>&lt;chr&gt;</th><th scope=col>&lt;chr&gt;</th><th scope=col>&lt;date&gt;</th><th scope=col>&lt;dbl&gt;</th></tr>\n",
       "</thead>\n",
       "<tbody>\n",
       "\t<tr><td> 41</td><td>June 28, 2023  </td><td>20:00:00</td><td>2</td><td>Apples</td><td> 5.64</td><td>5</td><td>Cash          </td><td>Produce</td><td>2023-06-28</td><td>28.20</td></tr>\n",
       "\t<tr><td>170</td><td>August 18, 2023</td><td>06:00:00</td><td>3</td><td>Apples</td><td>17.92</td><td>1</td><td>Mobile Payment</td><td>Produce</td><td>2023-08-18</td><td>17.92</td></tr>\n",
       "</tbody>\n",
       "</table>\n"
      ],
      "text/latex": [
       "A tibble: 2 × 11\n",
       "\\begin{tabular}{lllllllllll}\n",
       " CustomerID & DateRaw & Time & TransactionID & ProductName & PriceUSD & Quantity & PaymentMethod & Category & Date & TotalSaleUSD\\\\\n",
       " <dbl> & <chr> & <time> & <dbl> & <chr> & <dbl> & <dbl> & <chr> & <chr> & <date> & <dbl>\\\\\n",
       "\\hline\n",
       "\t  41 & June 28, 2023   & 20:00:00 & 2 & Apples &  5.64 & 5 & Cash           & Produce & 2023-06-28 & 28.20\\\\\n",
       "\t 170 & August 18, 2023 & 06:00:00 & 3 & Apples & 17.92 & 1 & Mobile Payment & Produce & 2023-08-18 & 17.92\\\\\n",
       "\\end{tabular}\n"
      ],
      "text/markdown": [
       "\n",
       "A tibble: 2 × 11\n",
       "\n",
       "| CustomerID &lt;dbl&gt; | DateRaw &lt;chr&gt; | Time &lt;time&gt; | TransactionID &lt;dbl&gt; | ProductName &lt;chr&gt; | PriceUSD &lt;dbl&gt; | Quantity &lt;dbl&gt; | PaymentMethod &lt;chr&gt; | Category &lt;chr&gt; | Date &lt;date&gt; | TotalSaleUSD &lt;dbl&gt; |\n",
       "|---|---|---|---|---|---|---|---|---|---|---|\n",
       "|  41 | June 28, 2023   | 20:00:00 | 2 | Apples |  5.64 | 5 | Cash           | Produce | 2023-06-28 | 28.20 |\n",
       "| 170 | August 18, 2023 | 06:00:00 | 3 | Apples | 17.92 | 1 | Mobile Payment | Produce | 2023-08-18 | 17.92 |\n",
       "\n"
      ],
      "text/plain": [
       "  CustomerID DateRaw         Time     TransactionID ProductName PriceUSD\n",
       "1  41        June 28, 2023   20:00:00 2             Apples       5.64   \n",
       "2 170        August 18, 2023 06:00:00 3             Apples      17.92   \n",
       "  Quantity PaymentMethod  Category Date       TotalSaleUSD\n",
       "1 5        Cash           Produce  2023-06-28 28.20       \n",
       "2 1        Mobile Payment Produce  2023-08-18 17.92       "
      ]
     },
     "metadata": {},
     "output_type": "display_data"
    }
   ],
   "source": [
    "head(grocery_data,2)"
   ]
  },
  {
   "cell_type": "markdown",
   "id": "5bf546dd",
   "metadata": {},
   "source": [
    "\n",
    "To predict customer behaviour, I will examine the time intervals between purchases of the same product. By analyzing the number of days between consecutive purchases, patterns or trends that can provide insights into customer buying habits and preferences can be determined."
   ]
  },
  {
   "cell_type": "code",
   "execution_count": 108,
   "id": "0c5a94b0",
   "metadata": {},
   "outputs": [],
   "source": [
    "# Calculate the time since each customer purchased each ProductName\n",
    "grocery_data_grouped <- grocery_data %>%\n",
    "  arrange(CustomerID, Date) %>% \n",
    "  group_by(CustomerID, ProductName) %>%\n",
    "  mutate(\n",
    "    DaysSinceLastPurchase = as.numeric(c(0, diff(Date))),  # Calculate the number of days since the last purchase of that commodity\n",
    "    Week = week(Date),  # Week number in that year\n",
    "    Year = year(Date),  # Year the purchase was made\n",
    "    Hour = hour(Time)  # Hour the purchase was made\n",
    "  ) %>%\n",
    "  ungroup()"
   ]
  },
  {
   "cell_type": "code",
   "execution_count": 109,
   "id": "df3cf66c",
   "metadata": {},
   "outputs": [
    {
     "data": {
      "text/html": [
       "<table class=\"dataframe\">\n",
       "<caption>A tibble: 2 × 15</caption>\n",
       "<thead>\n",
       "\t<tr><th scope=col>CustomerID</th><th scope=col>DateRaw</th><th scope=col>Time</th><th scope=col>TransactionID</th><th scope=col>ProductName</th><th scope=col>PriceUSD</th><th scope=col>Quantity</th><th scope=col>PaymentMethod</th><th scope=col>Category</th><th scope=col>Date</th><th scope=col>TotalSaleUSD</th><th scope=col>DaysSinceLastPurchase</th><th scope=col>Week</th><th scope=col>Year</th><th scope=col>Hour</th></tr>\n",
       "\t<tr><th scope=col>&lt;dbl&gt;</th><th scope=col>&lt;chr&gt;</th><th scope=col>&lt;time&gt;</th><th scope=col>&lt;dbl&gt;</th><th scope=col>&lt;chr&gt;</th><th scope=col>&lt;dbl&gt;</th><th scope=col>&lt;dbl&gt;</th><th scope=col>&lt;chr&gt;</th><th scope=col>&lt;chr&gt;</th><th scope=col>&lt;date&gt;</th><th scope=col>&lt;dbl&gt;</th><th scope=col>&lt;dbl&gt;</th><th scope=col>&lt;dbl&gt;</th><th scope=col>&lt;dbl&gt;</th><th scope=col>&lt;int&gt;</th></tr>\n",
       "</thead>\n",
       "<tbody>\n",
       "\t<tr><td>1</td><td>01 June 2023</td><td>01:00:00</td><td> 111</td><td>Bread  </td><td>6.14</td><td>3</td><td>Credit Card</td><td>Bakery </td><td>2023-06-01</td><td>18.42</td><td>0</td><td>22</td><td>2023</td><td> 1</td></tr>\n",
       "\t<tr><td>1</td><td>01 June 2023</td><td>10:00:00</td><td>1012</td><td>Carrots</td><td>0.97</td><td>2</td><td>Credit Card</td><td>Produce</td><td>2023-06-01</td><td> 1.94</td><td>0</td><td>22</td><td>2023</td><td>10</td></tr>\n",
       "</tbody>\n",
       "</table>\n"
      ],
      "text/latex": [
       "A tibble: 2 × 15\n",
       "\\begin{tabular}{lllllllllllllll}\n",
       " CustomerID & DateRaw & Time & TransactionID & ProductName & PriceUSD & Quantity & PaymentMethod & Category & Date & TotalSaleUSD & DaysSinceLastPurchase & Week & Year & Hour\\\\\n",
       " <dbl> & <chr> & <time> & <dbl> & <chr> & <dbl> & <dbl> & <chr> & <chr> & <date> & <dbl> & <dbl> & <dbl> & <dbl> & <int>\\\\\n",
       "\\hline\n",
       "\t 1 & 01 June 2023 & 01:00:00 &  111 & Bread   & 6.14 & 3 & Credit Card & Bakery  & 2023-06-01 & 18.42 & 0 & 22 & 2023 &  1\\\\\n",
       "\t 1 & 01 June 2023 & 10:00:00 & 1012 & Carrots & 0.97 & 2 & Credit Card & Produce & 2023-06-01 &  1.94 & 0 & 22 & 2023 & 10\\\\\n",
       "\\end{tabular}\n"
      ],
      "text/markdown": [
       "\n",
       "A tibble: 2 × 15\n",
       "\n",
       "| CustomerID &lt;dbl&gt; | DateRaw &lt;chr&gt; | Time &lt;time&gt; | TransactionID &lt;dbl&gt; | ProductName &lt;chr&gt; | PriceUSD &lt;dbl&gt; | Quantity &lt;dbl&gt; | PaymentMethod &lt;chr&gt; | Category &lt;chr&gt; | Date &lt;date&gt; | TotalSaleUSD &lt;dbl&gt; | DaysSinceLastPurchase &lt;dbl&gt; | Week &lt;dbl&gt; | Year &lt;dbl&gt; | Hour &lt;int&gt; |\n",
       "|---|---|---|---|---|---|---|---|---|---|---|---|---|---|---|\n",
       "| 1 | 01 June 2023 | 01:00:00 |  111 | Bread   | 6.14 | 3 | Credit Card | Bakery  | 2023-06-01 | 18.42 | 0 | 22 | 2023 |  1 |\n",
       "| 1 | 01 June 2023 | 10:00:00 | 1012 | Carrots | 0.97 | 2 | Credit Card | Produce | 2023-06-01 |  1.94 | 0 | 22 | 2023 | 10 |\n",
       "\n"
      ],
      "text/plain": [
       "  CustomerID DateRaw      Time     TransactionID ProductName PriceUSD Quantity\n",
       "1 1          01 June 2023 01:00:00  111          Bread       6.14     3       \n",
       "2 1          01 June 2023 10:00:00 1012          Carrots     0.97     2       \n",
       "  PaymentMethod Category Date       TotalSaleUSD DaysSinceLastPurchase Week\n",
       "1 Credit Card   Bakery   2023-06-01 18.42        0                     22  \n",
       "2 Credit Card   Produce  2023-06-01  1.94        0                     22  \n",
       "  Year Hour\n",
       "1 2023  1  \n",
       "2 2023 10  "
      ]
     },
     "metadata": {},
     "output_type": "display_data"
    }
   ],
   "source": [
    "head(grocery_data_grouped,2)"
   ]
  },
  {
   "cell_type": "markdown",
   "id": "fd52dc17",
   "metadata": {},
   "source": [
    "### Analyzing Weekly Sales Trends\n",
    "\n",
    "To gain insights into sales trends, I computed the weekly figures for `TotalSaleUSD`. Organizing the data into weekly segments could potentially identify patterns such as peak sales periods and potential areas for improvement"
   ]
  },
  {
   "cell_type": "code",
   "execution_count": 110,
   "id": "38ca20a1",
   "metadata": {},
   "outputs": [
    {
     "name": "stderr",
     "output_type": "stream",
     "text": [
      "\u001b[1m\u001b[22m`summarise()` has grouped output by 'Year'. You can override using the `.groups` argument.\n"
     ]
    }
   ],
   "source": [
    "# Calculate weekly figures for TotalSaleUSD\n",
    "weekly_sales <- grocery_data_grouped %>%\n",
    "  group_by(Year, Week) %>%\n",
    "  summarize(WeeklyTotalSaleUSD = sum(TotalSaleUSD)) %>% \n",
    "  arrange(Week, Year) %>% \n",
    "  ungroup()"
   ]
  },
  {
   "cell_type": "code",
   "execution_count": 111,
   "id": "99732cb2",
   "metadata": {},
   "outputs": [
    {
     "data": {
      "image/png": "[encoded data removed]",
      "text/plain": [
       "plot without title"
      ]
     },
     "metadata": {
      "image/png": {
       "height": 420,
       "width": 420
      }
     },
     "output_type": "display_data"
    }
   ],
   "source": [
    "# Weekly Sales Trend \n",
    "ggplot(weekly_sales, aes(x = Week, y = WeeklyTotalSaleUSD)) +\n",
    "  geom_line(color = \"#0073e6\", size = 1.5, alpha = 0.8) +  # Blue line with adjusted thickness and transparency\n",
    "  geom_point(color = \"#ff5733\", size = 4, shape = 16) +  # Adding red points for each week\n",
    "  labs(title = \"Weekly Sales Trend\", \n",
    "       subtitle = \"Tracking Total Sales (USD) across the weeks\", \n",
    "       x = \"Week\", \n",
    "       y = \"Total Sales (USD)\") +\n",
    "  theme_minimal(base_size = 15) +  # Minimal theme with larger base font size\n",
    "  theme(\n",
    "    plot.title = element_text(face = \"bold\", size = 18, color = \"#333333\"),\n",
    "    plot.subtitle = element_text(size = 14, color = \"#666666\"),\n",
    "    axis.title = element_text(face = \"bold\", size = 14),\n",
    "    axis.text = element_text(size = 12, color = \"#333333\"),\n",
    "    panel.grid.major = element_line(color = \"#e0e0e0\"),  # Light grey grid lines\n",
    "    panel.grid.minor = element_blank(),\n",
    "    plot.margin = margin(1, 1, 1, 1, \"cm\")  # Add some margin for better visual spacing\n",
    "  ) +\n",
    "  scale_x_continuous(breaks = seq(1, max(weekly_sales$Week), by = 1))  # Ensure week labels are shown clearly\n"
   ]
  },
  {
   "cell_type": "markdown",
   "id": "000de78d",
   "metadata": {},
   "source": [
    "The code below aims to identify the week of the year with the most consistent sales performance compared to the company's average weekly sales. By calculating and analyzing the absolute deviation of each week's sales from the mean weekly sales value, the code pinpoints the week where sales were closest to the average."
   ]
  },
  {
   "cell_type": "code",
   "execution_count": 127,
   "id": "bf22753c",
   "metadata": {},
   "outputs": [
    {
     "data": {
      "text/html": [
       "11442.8814285714"
      ],
      "text/latex": [
       "11442.8814285714"
      ],
      "text/markdown": [
       "11442.8814285714"
      ],
      "text/plain": [
       "[1] 11442.88"
      ]
     },
     "metadata": {},
     "output_type": "display_data"
    },
    {
     "data": {
      "text/html": [
       "<table class=\"dataframe\">\n",
       "<caption>A tibble: 14 × 4</caption>\n",
       "<thead>\n",
       "\t<tr><th scope=col>Year</th><th scope=col>Week</th><th scope=col>WeeklyTotalSaleUSD</th><th scope=col>Diff</th></tr>\n",
       "\t<tr><th scope=col>&lt;dbl&gt;</th><th scope=col>&lt;dbl&gt;</th><th scope=col>&lt;dbl&gt;</th><th scope=col>&lt;dbl&gt;</th></tr>\n",
       "</thead>\n",
       "<tbody>\n",
       "\t<tr><td>2023</td><td>24</td><td>11111.63</td><td> 331.2514</td></tr>\n",
       "\t<tr><td>2023</td><td>25</td><td>11005.97</td><td> 436.9114</td></tr>\n",
       "\t<tr><td>2023</td><td>27</td><td>11954.92</td><td> 512.0386</td></tr>\n",
       "\t<tr><td>2023</td><td>34</td><td>12144.57</td><td> 701.6886</td></tr>\n",
       "\t<tr><td>2023</td><td>31</td><td>12154.19</td><td> 711.3086</td></tr>\n",
       "\t<tr><td>2023</td><td>23</td><td>12189.07</td><td> 746.1886</td></tr>\n",
       "\t<tr><td>2023</td><td>28</td><td>12286.75</td><td> 843.8686</td></tr>\n",
       "\t<tr><td>2023</td><td>30</td><td>12617.20</td><td>1174.3186</td></tr>\n",
       "\t<tr><td>2023</td><td>29</td><td>12652.53</td><td>1209.6486</td></tr>\n",
       "\t<tr><td>2023</td><td>33</td><td>12960.01</td><td>1517.1286</td></tr>\n",
       "\t<tr><td>2023</td><td>26</td><td>13733.57</td><td>2290.6886</td></tr>\n",
       "\t<tr><td>2023</td><td>32</td><td>14063.12</td><td>2620.2386</td></tr>\n",
       "\t<tr><td>2023</td><td>35</td><td> 7419.81</td><td>4023.0714</td></tr>\n",
       "\t<tr><td>2023</td><td>22</td><td> 3907.00</td><td>7535.8814</td></tr>\n",
       "</tbody>\n",
       "</table>\n"
      ],
      "text/latex": [
       "A tibble: 14 × 4\n",
       "\\begin{tabular}{llll}\n",
       " Year & Week & WeeklyTotalSaleUSD & Diff\\\\\n",
       " <dbl> & <dbl> & <dbl> & <dbl>\\\\\n",
       "\\hline\n",
       "\t 2023 & 24 & 11111.63 &  331.2514\\\\\n",
       "\t 2023 & 25 & 11005.97 &  436.9114\\\\\n",
       "\t 2023 & 27 & 11954.92 &  512.0386\\\\\n",
       "\t 2023 & 34 & 12144.57 &  701.6886\\\\\n",
       "\t 2023 & 31 & 12154.19 &  711.3086\\\\\n",
       "\t 2023 & 23 & 12189.07 &  746.1886\\\\\n",
       "\t 2023 & 28 & 12286.75 &  843.8686\\\\\n",
       "\t 2023 & 30 & 12617.20 & 1174.3186\\\\\n",
       "\t 2023 & 29 & 12652.53 & 1209.6486\\\\\n",
       "\t 2023 & 33 & 12960.01 & 1517.1286\\\\\n",
       "\t 2023 & 26 & 13733.57 & 2290.6886\\\\\n",
       "\t 2023 & 32 & 14063.12 & 2620.2386\\\\\n",
       "\t 2023 & 35 &  7419.81 & 4023.0714\\\\\n",
       "\t 2023 & 22 &  3907.00 & 7535.8814\\\\\n",
       "\\end{tabular}\n"
      ],
      "text/markdown": [
       "\n",
       "A tibble: 14 × 4\n",
       "\n",
       "| Year &lt;dbl&gt; | Week &lt;dbl&gt; | WeeklyTotalSaleUSD &lt;dbl&gt; | Diff &lt;dbl&gt; |\n",
       "|---|---|---|---|\n",
       "| 2023 | 24 | 11111.63 |  331.2514 |\n",
       "| 2023 | 25 | 11005.97 |  436.9114 |\n",
       "| 2023 | 27 | 11954.92 |  512.0386 |\n",
       "| 2023 | 34 | 12144.57 |  701.6886 |\n",
       "| 2023 | 31 | 12154.19 |  711.3086 |\n",
       "| 2023 | 23 | 12189.07 |  746.1886 |\n",
       "| 2023 | 28 | 12286.75 |  843.8686 |\n",
       "| 2023 | 30 | 12617.20 | 1174.3186 |\n",
       "| 2023 | 29 | 12652.53 | 1209.6486 |\n",
       "| 2023 | 33 | 12960.01 | 1517.1286 |\n",
       "| 2023 | 26 | 13733.57 | 2290.6886 |\n",
       "| 2023 | 32 | 14063.12 | 2620.2386 |\n",
       "| 2023 | 35 |  7419.81 | 4023.0714 |\n",
       "| 2023 | 22 |  3907.00 | 7535.8814 |\n",
       "\n"
      ],
      "text/plain": [
       "   Year Week WeeklyTotalSaleUSD Diff     \n",
       "1  2023 24   11111.63            331.2514\n",
       "2  2023 25   11005.97            436.9114\n",
       "3  2023 27   11954.92            512.0386\n",
       "4  2023 34   12144.57            701.6886\n",
       "5  2023 31   12154.19            711.3086\n",
       "6  2023 23   12189.07            746.1886\n",
       "7  2023 28   12286.75            843.8686\n",
       "8  2023 30   12617.20           1174.3186\n",
       "9  2023 29   12652.53           1209.6486\n",
       "10 2023 33   12960.01           1517.1286\n",
       "11 2023 26   13733.57           2290.6886\n",
       "12 2023 32   14063.12           2620.2386\n",
       "13 2023 35    7419.81           4023.0714\n",
       "14 2023 22    3907.00           7535.8814"
      ]
     },
     "metadata": {},
     "output_type": "display_data"
    }
   ],
   "source": [
    "# What week of the year during the time period had the smallest absolute deviation in sales value compared to the mean WeeklyTotalSaleUSD?\n",
    "mean(weekly_sales$WeeklyTotalSaleUSD)\n",
    "weekly_sales <- weekly_sales %>% \n",
    "  mutate(Diff = abs(WeeklyTotalSaleUSD - mean(WeeklyTotalSaleUSD))) %>% \n",
    "  arrange(Diff)\n",
    "smallest_sales_deviation <- 24\n",
    "\n",
    "weekly_sales"
   ]
  },
  {
   "cell_type": "code",
   "execution_count": 128,
   "id": "af7cfdf0",
   "metadata": {},
   "outputs": [
    {
     "data": {
      "image/png": "[encoded data removed]",
      "text/plain": [
       "plot without title"
      ]
     },
     "metadata": {
      "image/png": {
       "height": 420,
       "width": 420
      }
     },
     "output_type": "display_data"
    }
   ],
   "source": [
    "# Sales Deviation from Weekly Average\n",
    "ggplot(weekly_sales, aes(x = Week, y = Diff)) +\n",
    "  geom_bar(stat = \"identity\", fill = \"#FF7F0E\", color = \"#D35400\", width = 0.8) +  # Orange bars with darker borders\n",
    "  labs(title = \"Sales Deviation from Weekly Average\", \n",
    "       subtitle = \"Shows the deviation in sales compared to the weekly average\", \n",
    "       x = \"Week\", \n",
    "       y = \"Deviation from Average (USD)\") +\n",
    "  theme_minimal(base_size = 15) +  # Minimal theme with larger font sizes\n",
    "  theme(\n",
    "    plot.title = element_text(face = \"bold\", size = 18, color = \"#333333\"),\n",
    "    plot.subtitle = element_text(size = 14, color = \"#666666\"),\n",
    "    axis.title = element_text(face = \"bold\", size = 14),\n",
    "    axis.text = element_text(size = 12, color = \"#333333\"),\n",
    "    panel.grid.major = element_line(color = \"#e0e0e0\"),  # Light grey grid lines\n",
    "    panel.grid.minor = element_blank(),\n",
    "    plot.margin = margin(1, 1, 1, 1, \"cm\"),  # Add some margin for better spacing\n",
    "    axis.text.x = element_text(angle = 45, hjust = 1)  # Tilt x-axis labels for better readability\n",
    "  ) +\n",
    "  geom_hline(yintercept = 0, linetype = \"dashed\", color = \"#333333\", size = 1) +  # Add a dashed line at y=0 for reference\n",
    "  scale_x_continuous(breaks = seq(1, max(weekly_sales$Week), by = 1))  # Ensure week labels are clearly shown\n"
   ]
  },
  {
   "cell_type": "markdown",
   "id": "fa0423bd",
   "metadata": {},
   "source": [
    "## Weekly Sales Consistency Analysis\n",
    "\n",
    "From the analysis, we observe the weekly sales (`WeeklyTotalSaleUSD`) and their corresponding absolute deviations from the mean weekly sales (`Diff`). Below are the key insights:\n",
    "\n",
    "### 1. Week with Smallest Deviation (Most Consistent Sales)\n",
    "- **Week 24 (2023)** has the smallest deviation from the mean, with a `Diff` of **331.25**.\n",
    "- This indicates that sales during this week were closest to the average weekly sales, suggesting a period of stable or predictable sales performance.\n",
    "\n",
    "### 2. Weeks with Significant Deviations\n",
    "- **Week 22 (2023):** This week shows the largest deviation, with a `Diff` of **7535.88**, indicating much lower sales than the average. Potential reasons could include seasonal downturns, reduced demand, or other operational challenges.\n",
    "- **Week 35 (2023):** This week also exhibits a large deviation, with a `Diff` of **4023.07**, reflecting another significant drop in sales. Further investigation is needed to determine whether external factors or market conditions caused this decline.\n",
    "\n",
    "### 3. Weeks with Higher-than-Average Sales\n",
    "- Several weeks, such as **Weeks 32, 33, 29, 30**, and **26**, show high sales values, with deviations exceeding **2000 USD**.\n",
    "- These weeks may represent periods of strong demand or successful marketing efforts where sales exceeded the usual levels.\n",
    "\n",
    "### 4. Sales Trends and Operational Implications\n",
    "- **Stable Weeks:** Week 24, with the smallest deviation, might reflect a time of normal operations. This information could guide inventory planning and staffing for similar weeks in the future.\n",
    "- **Periods of High Sales:** Weeks with higher-than-usual sales could be analyzed for trends, such as successful promotional campaigns or seasonal events that boosted demand.\n",
    "- **Low Sales Weeks:** Weeks like Week 22 and Week 35, with large deviations, may indicate issues or external factors leading to poor performance. These insights could highlight opportunities for operational improvements or better alignment with market conditions.\n",
    "\n",
    "### Summary\n",
    "The analysis identifies **Week 24** as the most consistent week in terms of sales, while **Week 22** shows the largest deviation due to significantly lower sales. Understanding these patterns can help the company better forecast future performance, adjust for seasonal variations, and optimize strategies for improving sales consistency.\n"
   ]
  },
  {
   "cell_type": "markdown",
   "id": "77288fc5",
   "metadata": {},
   "source": [
    "### Calculating Hourly Sales Figures\n",
    "\n",
    "The code below calculates the total sales (`TotalSaleUSD`) for each hour of the day. Here's a breakdown of the steps involved:\n",
    "\n",
    "1. **Group Data by Hour:** The dataset is grouped based on the `Hour` column to aggregate sales figures for each hour.\n",
    "2. **Summarize Sales:** The total sales for each hour are computed by summing up the `TotalSaleUSD` values within each group, resulting in `HourlyTotalSaleUSD`.\n",
    "3. **Ungroup Data:** The grouping is removed to allow for further processing.\n",
    "4. **Sort Results:** The data is sorted in descending order of `HourlyTotalSaleUSD` to identify the hours with the highest sales.\n",
    "\n",
    "This analysis provides insights into hourly sales patterns, helping identify peak sales hours, which can be crucial for optimizing operations, staffing, and marketing strategies.\n"
   ]
  },
  {
   "cell_type": "code",
   "execution_count": 114,
   "id": "d34af685",
   "metadata": {},
   "outputs": [],
   "source": [
    "# Calculate hourly figures for TotalSaleUSD\n",
    "hourly_sales <- grocery_data_grouped %>%\n",
    "  group_by(Hour) %>%\n",
    "  summarize(HourlyTotalSaleUSD = sum(TotalSaleUSD)) %>% \n",
    "  ungroup() %>%\n",
    "  arrange(desc(HourlyTotalSaleUSD))"
   ]
  },
  {
   "cell_type": "code",
   "execution_count": 115,
   "id": "bde7c8c7",
   "metadata": {},
   "outputs": [
    {
     "data": {
      "text/html": [
       "<table class=\"dataframe\">\n",
       "<caption>A tibble: 24 × 2</caption>\n",
       "<thead>\n",
       "\t<tr><th scope=col>Hour</th><th scope=col>HourlyTotalSaleUSD</th></tr>\n",
       "\t<tr><th scope=col>&lt;int&gt;</th><th scope=col>&lt;dbl&gt;</th></tr>\n",
       "</thead>\n",
       "<tbody>\n",
       "\t<tr><td>22</td><td>8476.95</td></tr>\n",
       "\t<tr><td> 8</td><td>8164.50</td></tr>\n",
       "\t<tr><td>13</td><td>7523.40</td></tr>\n",
       "\t<tr><td> 6</td><td>7383.21</td></tr>\n",
       "\t<tr><td>10</td><td>7286.96</td></tr>\n",
       "\t<tr><td> 5</td><td>7242.81</td></tr>\n",
       "\t<tr><td>21</td><td>7235.86</td></tr>\n",
       "\t<tr><td> 0</td><td>7125.01</td></tr>\n",
       "\t<tr><td>16</td><td>6897.30</td></tr>\n",
       "\t<tr><td> 4</td><td>6810.12</td></tr>\n",
       "\t<tr><td> 1</td><td>6739.65</td></tr>\n",
       "\t<tr><td>20</td><td>6717.87</td></tr>\n",
       "\t<tr><td> 2</td><td>6712.81</td></tr>\n",
       "\t<tr><td> 3</td><td>6553.83</td></tr>\n",
       "\t<tr><td>15</td><td>6517.20</td></tr>\n",
       "\t<tr><td>18</td><td>6395.67</td></tr>\n",
       "\t<tr><td>12</td><td>6387.69</td></tr>\n",
       "\t<tr><td>23</td><td>6078.83</td></tr>\n",
       "\t<tr><td>19</td><td>6078.19</td></tr>\n",
       "\t<tr><td> 7</td><td>5965.00</td></tr>\n",
       "\t<tr><td> 9</td><td>5899.51</td></tr>\n",
       "\t<tr><td>11</td><td>5426.39</td></tr>\n",
       "\t<tr><td>14</td><td>5334.77</td></tr>\n",
       "\t<tr><td>17</td><td>5246.81</td></tr>\n",
       "</tbody>\n",
       "</table>\n"
      ],
      "text/latex": [
       "A tibble: 24 × 2\n",
       "\\begin{tabular}{ll}\n",
       " Hour & HourlyTotalSaleUSD\\\\\n",
       " <int> & <dbl>\\\\\n",
       "\\hline\n",
       "\t 22 & 8476.95\\\\\n",
       "\t  8 & 8164.50\\\\\n",
       "\t 13 & 7523.40\\\\\n",
       "\t  6 & 7383.21\\\\\n",
       "\t 10 & 7286.96\\\\\n",
       "\t  5 & 7242.81\\\\\n",
       "\t 21 & 7235.86\\\\\n",
       "\t  0 & 7125.01\\\\\n",
       "\t 16 & 6897.30\\\\\n",
       "\t  4 & 6810.12\\\\\n",
       "\t  1 & 6739.65\\\\\n",
       "\t 20 & 6717.87\\\\\n",
       "\t  2 & 6712.81\\\\\n",
       "\t  3 & 6553.83\\\\\n",
       "\t 15 & 6517.20\\\\\n",
       "\t 18 & 6395.67\\\\\n",
       "\t 12 & 6387.69\\\\\n",
       "\t 23 & 6078.83\\\\\n",
       "\t 19 & 6078.19\\\\\n",
       "\t  7 & 5965.00\\\\\n",
       "\t  9 & 5899.51\\\\\n",
       "\t 11 & 5426.39\\\\\n",
       "\t 14 & 5334.77\\\\\n",
       "\t 17 & 5246.81\\\\\n",
       "\\end{tabular}\n"
      ],
      "text/markdown": [
       "\n",
       "A tibble: 24 × 2\n",
       "\n",
       "| Hour &lt;int&gt; | HourlyTotalSaleUSD &lt;dbl&gt; |\n",
       "|---|---|\n",
       "| 22 | 8476.95 |\n",
       "|  8 | 8164.50 |\n",
       "| 13 | 7523.40 |\n",
       "|  6 | 7383.21 |\n",
       "| 10 | 7286.96 |\n",
       "|  5 | 7242.81 |\n",
       "| 21 | 7235.86 |\n",
       "|  0 | 7125.01 |\n",
       "| 16 | 6897.30 |\n",
       "|  4 | 6810.12 |\n",
       "|  1 | 6739.65 |\n",
       "| 20 | 6717.87 |\n",
       "|  2 | 6712.81 |\n",
       "|  3 | 6553.83 |\n",
       "| 15 | 6517.20 |\n",
       "| 18 | 6395.67 |\n",
       "| 12 | 6387.69 |\n",
       "| 23 | 6078.83 |\n",
       "| 19 | 6078.19 |\n",
       "|  7 | 5965.00 |\n",
       "|  9 | 5899.51 |\n",
       "| 11 | 5426.39 |\n",
       "| 14 | 5334.77 |\n",
       "| 17 | 5246.81 |\n",
       "\n"
      ],
      "text/plain": [
       "   Hour HourlyTotalSaleUSD\n",
       "1  22   8476.95           \n",
       "2   8   8164.50           \n",
       "3  13   7523.40           \n",
       "4   6   7383.21           \n",
       "5  10   7286.96           \n",
       "6   5   7242.81           \n",
       "7  21   7235.86           \n",
       "8   0   7125.01           \n",
       "9  16   6897.30           \n",
       "10  4   6810.12           \n",
       "11  1   6739.65           \n",
       "12 20   6717.87           \n",
       "13  2   6712.81           \n",
       "14  3   6553.83           \n",
       "15 15   6517.20           \n",
       "16 18   6395.67           \n",
       "17 12   6387.69           \n",
       "18 23   6078.83           \n",
       "19 19   6078.19           \n",
       "20  7   5965.00           \n",
       "21  9   5899.51           \n",
       "22 11   5426.39           \n",
       "23 14   5334.77           \n",
       "24 17   5246.81           "
      ]
     },
     "metadata": {},
     "output_type": "display_data"
    }
   ],
   "source": [
    "hourly_sales"
   ]
  },
  {
   "cell_type": "code",
   "execution_count": 116,
   "id": "e3767ed5",
   "metadata": {},
   "outputs": [
    {
     "data": {
      "image/png": "[encoded data removed]",
      "text/plain": [
       "plot without title"
      ]
     },
     "metadata": {
      "image/png": {
       "height": 420,
       "width": 420
      }
     },
     "output_type": "display_data"
    }
   ],
   "source": [
    "# Hourly Sales Distribution \n",
    "hourly_sales <- grocery_data_grouped %>%\n",
    "  group_by(Hour) %>%\n",
    "  summarize(HourlyTotalSaleUSD = sum(TotalSaleUSD)) %>%\n",
    "  ungroup() %>%\n",
    "  arrange(Hour)\n",
    "\n",
    "# Create the line plot \n",
    "ggplot(hourly_sales, aes(x = factor(Hour), y = HourlyTotalSaleUSD, group = 1)) +  # group = 1 ensures a single line\n",
    "  geom_line(color = \"blue\", linewidth = 1.5, alpha = 0.8) +  # Replacing `size` with `linewidth`\n",
    "  geom_point(color = \"red\", size = 3) +  # Red points for each hour\n",
    "  labs(title = \"Hourly Sales Distribution\", \n",
    "       subtitle = \"Total sales (USD) for each hour of the day\", \n",
    "       x = \"Hour of the Day\", \n",
    "       y = \"Total Sales (USD)\") +\n",
    "  theme_minimal(base_size = 15) +  # Clean minimal theme\n",
    "  theme(\n",
    "    plot.title = element_text(face = \"bold\", size = 18),\n",
    "    plot.subtitle = element_text(size = 14),\n",
    "    axis.title = element_text(face = \"bold\"),\n",
    "    axis.text = element_text(size = 12)\n",
    "  ) + \n",
    "  scale_x_discrete(breaks = seq(0, 23, 1))  # Ensure all hours are labeled\n"
   ]
  },
  {
   "cell_type": "markdown",
   "id": "5c910f80",
   "metadata": {},
   "source": [
    "## Hourly Sales Analysis Report\n",
    "\n",
    "The following analysis summarizes the hourly sales (`HourlyTotalSaleUSD`) for a given period, using data aggregated in a 24-hour format. The goal is to identify peak sales periods and provide insights for optimizing operational efficiency and marketing strategies.\n",
    "\n",
    "### Key Observations:\n",
    "\n",
    "1. **Peak Sales Hours:**\n",
    "   - The highest total sales were recorded during **22:00 (10 PM)** with a value of **8,476.95 USD**, indicating that late evening is a significant period for sales activity.\n",
    "   - Other high-performing hours include:\n",
    "     - **08:00 (8 AM):** **8,164.50 USD**\n",
    "     - **13:00 (1 PM):** **7,523.40 USD**\n",
    "     - **06:00 (6 AM):** **7,383.21 USD**\n",
    "\n",
    "   These hours reflect strong sales trends, possibly due to customer habits or targeted promotions.\n",
    "\n",
    "2. **Moderate Sales Hours:**\n",
    "   - Sales during hours such as **10:00 (10 AM)** with **7,286.96 USD** and **05:00 (5 AM)** with **7,242.81 USD** represent consistent yet moderate performance.\n",
    "   - Late-night hours like **00:00 (midnight)** also show steady sales of **7,125.01 USD**, suggesting activity even during off-peak times.\n",
    "\n",
    "3. **Lower Sales Hours:**\n",
    "   - The hours with the lowest total sales include:\n",
    "     - **17:00 (5 PM):** **5,246.81 USD**\n",
    "     - **14:00 (2 PM):** **5,334.77 USD**\n",
    "     - **11:00 (11 AM):** **5,426.39 USD**\n",
    "\n",
    "   These periods may reflect reduced customer engagement, highlighting opportunities to investigate potential causes such as shifts in customer behavior or lack of targeted promotions.\n",
    "\n",
    "### Insights:\n",
    "\n",
    "- **High-Efficiency Hours:** \n",
    "  - Late evenings (e.g., 22:00) and early mornings (e.g., 08:00) are critical hours for sales. Companies could leverage these periods by increasing staffing, extending store hours, or running time-specific promotions.\n",
    "\n",
    "- **Low Activity Periods:** \n",
    "  - Hours like 17:00 and 14:00, with relatively lower sales, may benefit from targeted interventions such as flash sales or loyalty program incentives to boost activity.\n",
    "\n",
    "- **Consistent Activity:** \n",
    "  - The presence of steady sales across most hours indicates a relatively balanced distribution, suggesting the company benefits from a consistent flow of customers throughout the day.\n",
    "\n",
    "### Conclusion:\n",
    "This analysis provides actionable insights into hourly sales patterns, identifying both peak and low activity periods. Businesses can use this information to optimize operations, enhance customer engagement, and develop time-specific marketing strategies to maximize revenue.\n"
   ]
  },
  {
   "cell_type": "markdown",
   "id": "dc6cc21f",
   "metadata": {},
   "source": [
    "### Analyzing Milk Purchases for CustomerID 1\n",
    "\n",
    "The code below analyzes the **Milk** purchases made by **CustomerID 1**. Here's a breakdown of the steps involved:\n",
    "\n",
    "1. **Filter Data by CustomerID and ProductName:** The dataset is filtered to include only transactions made by **CustomerID 1** and for the product \"Milk\".\n",
    "2. **Extract Relevant Information:** For each relevant transaction, key details such as the transaction date, price, quantity, and total sales are captured, along with the time of purchase.\n",
    "3. **Analyze Purchase Patterns:** By filtering the data to only include purchases of \"Milk\", we gain insights into the frequency, amounts spent, and payment methods for this specific product.\n",
    "4. **Review Time-based Trends:** The data includes information on the day and hour of each purchase, providing insights into when **CustomerID 1** tends to make purchases.\n",
    "\n",
    "This analysis provides valuable insights into the purchasing behavior of **CustomerID 1** for the product \"Milk\", such as how frequently they buy it, the average spend per purchase, and any time-based trends that could inform inventory management, marketing, and customer engagement strategies.\n"
   ]
  },
  {
   "cell_type": "code",
   "execution_count": 117,
   "id": "15429be8",
   "metadata": {},
   "outputs": [
    {
     "data": {
      "text/html": [
       "<table class=\"dataframe\">\n",
       "<caption>A tibble: 5 × 15</caption>\n",
       "<thead>\n",
       "\t<tr><th scope=col>CustomerID</th><th scope=col>DateRaw</th><th scope=col>Time</th><th scope=col>TransactionID</th><th scope=col>ProductName</th><th scope=col>PriceUSD</th><th scope=col>Quantity</th><th scope=col>PaymentMethod</th><th scope=col>Category</th><th scope=col>Date</th><th scope=col>TotalSaleUSD</th><th scope=col>DaysSinceLastPurchase</th><th scope=col>Week</th><th scope=col>Year</th><th scope=col>Hour</th></tr>\n",
       "\t<tr><th scope=col>&lt;dbl&gt;</th><th scope=col>&lt;chr&gt;</th><th scope=col>&lt;time&gt;</th><th scope=col>&lt;dbl&gt;</th><th scope=col>&lt;chr&gt;</th><th scope=col>&lt;dbl&gt;</th><th scope=col>&lt;dbl&gt;</th><th scope=col>&lt;chr&gt;</th><th scope=col>&lt;chr&gt;</th><th scope=col>&lt;date&gt;</th><th scope=col>&lt;dbl&gt;</th><th scope=col>&lt;dbl&gt;</th><th scope=col>&lt;dbl&gt;</th><th scope=col>&lt;dbl&gt;</th><th scope=col>&lt;int&gt;</th></tr>\n",
       "</thead>\n",
       "<tbody>\n",
       "\t<tr><td>1</td><td>07 June 2023</td><td>05:00:00</td><td>1346</td><td>Milk</td><td> 9.81</td><td>1</td><td>Cash          </td><td>Dairy</td><td>2023-06-07</td><td> 9.81</td><td> 0</td><td>23</td><td>2023</td><td> 5</td></tr>\n",
       "\t<tr><td>1</td><td>17 June 2023</td><td>18:00:00</td><td>3677</td><td>Milk</td><td>16.28</td><td>2</td><td>Debit Card    </td><td>Dairy</td><td>2023-06-17</td><td>32.56</td><td>10</td><td>24</td><td>2023</td><td>18</td></tr>\n",
       "\t<tr><td>1</td><td>30 June 2023</td><td>17:00:00</td><td> 379</td><td>Milk</td><td>19.02</td><td>4</td><td>Credit Card   </td><td>Dairy</td><td>2023-06-30</td><td>76.08</td><td>13</td><td>26</td><td>2023</td><td>17</td></tr>\n",
       "\t<tr><td>1</td><td>01 July 2023</td><td>12:00:00</td><td>4828</td><td>Milk</td><td>14.40</td><td>3</td><td>Mobile Payment</td><td>Dairy</td><td>2023-07-01</td><td>43.20</td><td> 1</td><td>26</td><td>2023</td><td>12</td></tr>\n",
       "\t<tr><td>1</td><td>05 July 2023</td><td>03:00:00</td><td>  85</td><td>Milk</td><td>13.94</td><td>4</td><td>Credit Card   </td><td>Dairy</td><td>2023-07-05</td><td>55.76</td><td> 4</td><td>27</td><td>2023</td><td> 3</td></tr>\n",
       "</tbody>\n",
       "</table>\n"
      ],
      "text/latex": [
       "A tibble: 5 × 15\n",
       "\\begin{tabular}{lllllllllllllll}\n",
       " CustomerID & DateRaw & Time & TransactionID & ProductName & PriceUSD & Quantity & PaymentMethod & Category & Date & TotalSaleUSD & DaysSinceLastPurchase & Week & Year & Hour\\\\\n",
       " <dbl> & <chr> & <time> & <dbl> & <chr> & <dbl> & <dbl> & <chr> & <chr> & <date> & <dbl> & <dbl> & <dbl> & <dbl> & <int>\\\\\n",
       "\\hline\n",
       "\t 1 & 07 June 2023 & 05:00:00 & 1346 & Milk &  9.81 & 1 & Cash           & Dairy & 2023-06-07 &  9.81 &  0 & 23 & 2023 &  5\\\\\n",
       "\t 1 & 17 June 2023 & 18:00:00 & 3677 & Milk & 16.28 & 2 & Debit Card     & Dairy & 2023-06-17 & 32.56 & 10 & 24 & 2023 & 18\\\\\n",
       "\t 1 & 30 June 2023 & 17:00:00 &  379 & Milk & 19.02 & 4 & Credit Card    & Dairy & 2023-06-30 & 76.08 & 13 & 26 & 2023 & 17\\\\\n",
       "\t 1 & 01 July 2023 & 12:00:00 & 4828 & Milk & 14.40 & 3 & Mobile Payment & Dairy & 2023-07-01 & 43.20 &  1 & 26 & 2023 & 12\\\\\n",
       "\t 1 & 05 July 2023 & 03:00:00 &   85 & Milk & 13.94 & 4 & Credit Card    & Dairy & 2023-07-05 & 55.76 &  4 & 27 & 2023 &  3\\\\\n",
       "\\end{tabular}\n"
      ],
      "text/markdown": [
       "\n",
       "A tibble: 5 × 15\n",
       "\n",
       "| CustomerID &lt;dbl&gt; | DateRaw &lt;chr&gt; | Time &lt;time&gt; | TransactionID &lt;dbl&gt; | ProductName &lt;chr&gt; | PriceUSD &lt;dbl&gt; | Quantity &lt;dbl&gt; | PaymentMethod &lt;chr&gt; | Category &lt;chr&gt; | Date &lt;date&gt; | TotalSaleUSD &lt;dbl&gt; | DaysSinceLastPurchase &lt;dbl&gt; | Week &lt;dbl&gt; | Year &lt;dbl&gt; | Hour &lt;int&gt; |\n",
       "|---|---|---|---|---|---|---|---|---|---|---|---|---|---|---|\n",
       "| 1 | 07 June 2023 | 05:00:00 | 1346 | Milk |  9.81 | 1 | Cash           | Dairy | 2023-06-07 |  9.81 |  0 | 23 | 2023 |  5 |\n",
       "| 1 | 17 June 2023 | 18:00:00 | 3677 | Milk | 16.28 | 2 | Debit Card     | Dairy | 2023-06-17 | 32.56 | 10 | 24 | 2023 | 18 |\n",
       "| 1 | 30 June 2023 | 17:00:00 |  379 | Milk | 19.02 | 4 | Credit Card    | Dairy | 2023-06-30 | 76.08 | 13 | 26 | 2023 | 17 |\n",
       "| 1 | 01 July 2023 | 12:00:00 | 4828 | Milk | 14.40 | 3 | Mobile Payment | Dairy | 2023-07-01 | 43.20 |  1 | 26 | 2023 | 12 |\n",
       "| 1 | 05 July 2023 | 03:00:00 |   85 | Milk | 13.94 | 4 | Credit Card    | Dairy | 2023-07-05 | 55.76 |  4 | 27 | 2023 |  3 |\n",
       "\n"
      ],
      "text/plain": [
       "  CustomerID DateRaw      Time     TransactionID ProductName PriceUSD Quantity\n",
       "1 1          07 June 2023 05:00:00 1346          Milk         9.81    1       \n",
       "2 1          17 June 2023 18:00:00 3677          Milk        16.28    2       \n",
       "3 1          30 June 2023 17:00:00  379          Milk        19.02    4       \n",
       "4 1          01 July 2023 12:00:00 4828          Milk        14.40    3       \n",
       "5 1          05 July 2023 03:00:00   85          Milk        13.94    4       \n",
       "  PaymentMethod  Category Date       TotalSaleUSD DaysSinceLastPurchase Week\n",
       "1 Cash           Dairy    2023-06-07  9.81         0                    23  \n",
       "2 Debit Card     Dairy    2023-06-17 32.56        10                    24  \n",
       "3 Credit Card    Dairy    2023-06-30 76.08        13                    26  \n",
       "4 Mobile Payment Dairy    2023-07-01 43.20         1                    26  \n",
       "5 Credit Card    Dairy    2023-07-05 55.76         4                    27  \n",
       "  Year Hour\n",
       "1 2023  5  \n",
       "2 2023 18  \n",
       "3 2023 17  \n",
       "4 2023 12  \n",
       "5 2023  3  "
      ]
     },
     "metadata": {},
     "output_type": "display_data"
    }
   ],
   "source": [
    "# Examine Milk purchases for CustomerID 1\n",
    "grocery_data_grouped %>% \n",
    "  filter(CustomerID == 1) %>% \n",
    "  filter(ProductName == \"Milk\")\n"
   ]
  },
  {
   "cell_type": "markdown",
   "id": "be9cdee5",
   "metadata": {},
   "source": [
    "### Key Observations:\n",
    "- **Purchase Dates**: The purchases of Milk by CustomerID 1 span from **7 June 2023** to **5 July 2023**, indicating that the customer made several Milk purchases over the course of about a month.\n",
    "- **Quantities Purchased**: The customer bought varying quantities of Milk in each transaction, ranging from 1 unit to 4 units.\n",
    "- **Total Sale Amount**: The total sale amount fluctuates according to the quantity purchased:\n",
    "  - The first purchase on **7 June 2023** was for **1 unit** of Milk, totaling **9.81 USD**.\n",
    "  - The second purchase on **17 June 2023** was for **2 units**, totaling **32.56 USD**.\n",
    "  - The third purchase on **30 June 2023** was for **4 units**, totaling **76.08 USD**.\n",
    "- **Payment Methods**: The customer used various payment methods, including **Cash**, **Debit Card**, **Credit Card**, and **Mobile Payment**.\n",
    "- **Time of Day**: The purchases occurred at different hours of the day, ranging from early morning (**5 AM**) to late evening (**6 PM** or later).\n",
    "- **Days Since Last Purchase**: The `DaysSinceLastPurchase` column shows varying intervals between purchases, such as **10 days** between the first and second purchase, and **3 days** between the fourth and fifth purchase.\n",
    "\n",
    "### Conclusion:\n",
    "The analysis of CustomerID 1's Milk purchases reveals several insights into their buying behavior:\n",
    "- **Frequency**: Customer 1 made several Milk purchases across a month, with varying time gaps between purchases.\n",
    "- **Purchase Patterns**: The customer tends to buy Milk in different quantities, with some transactions involving multiple units.\n",
    "- **Payment Preferences**: There is no single preferred payment method, as the customer used a mix of Cash, Debit Card, Credit Card, and Mobile Payment.\n",
    "- **Time of Day**: The purchases are spread throughout the day, with no clear preference for a particular time.\n",
    "- **Potential Applications**: This information can be useful for understanding purchasing behavior, planning inventory, and creating targeted marketing strategies for this customer or similar ones.\n"
   ]
  },
  {
   "cell_type": "markdown",
   "id": "24e5d791",
   "metadata": {},
   "source": [
    "### Analyzing the Top 10 and Bottom 10 Products by Revenue\n",
    "\n",
    "In this section, we analyze the top and bottom 10 products that have contributed the most and the least to total revenue. This analysis can reveal valuable insights into which products are overperforming underperforming and might require further investigation or strategic adjustments.\n"
   ]
  },
  {
   "cell_type": "code",
   "execution_count": 118,
   "id": "f75b8022",
   "metadata": {},
   "outputs": [
    {
     "data": {
      "image/png": "[encoded data removed]",
      "text/plain": [
       "plot without title"
      ]
     },
     "metadata": {
      "image/png": {
       "height": 420,
       "width": 420
      }
     },
     "output_type": "display_data"
    }
   ],
   "source": [
    "# Group by ProductName and summarize total revenue (TotalSaleUSD)\n",
    "top_products <- grocery_data_grouped %>%\n",
    "  group_by(ProductName) %>%\n",
    "  summarize(TotalRevenue = sum(TotalSaleUSD)) %>%  # Summing up TotalSaleUSD for each product\n",
    "  arrange(desc(TotalRevenue)) %>%  # Sorting the data by TotalRevenue in descending order\n",
    "  head(10)  # Getting the top 10 products with the most revenue\n",
    "\n",
    "# Create a bar chart with numbers on the bars\n",
    "ggplot(top_products, aes(x = reorder(ProductName, TotalRevenue), y = TotalRevenue)) +\n",
    "  geom_bar(stat = \"identity\", fill = \"#4CAF50\", width = 0.7) +  # green bars\n",
    "  coord_flip() +  # Flip coordinates for horizontal bars\n",
    "  labs(title = \"Top 10 Products by Revenue\", x = \"Product Name\", y = \"Total Revenue (USD)\") +\n",
    "  theme_minimal() +\n",
    "  theme(\n",
    "    plot.title = element_text(size = 16, face = \"bold\", hjust = 0.5),\n",
    "    axis.title = element_text(size = 12),\n",
    "    axis.text = element_text(size = 10),\n",
    "    panel.grid.major.y = element_line(color = \"gray\", size = 0.2),\n",
    "    panel.grid.minor = element_blank()\n",
    "  ) +\n",
    "  geom_text(aes(label = scales::comma(TotalRevenue)), # Adding numbers to the bars\n",
    "            position = position_stack(vjust = 0.5), # Centers the text inside the bars\n",
    "            size = 4, color = \"white\", fontface = \"bold\") # Styling the text\n"
   ]
  },
  {
   "cell_type": "code",
   "execution_count": 119,
   "id": "cc6b13bd",
   "metadata": {},
   "outputs": [
    {
     "data": {
      "image/png": "[encoded data removed]",
      "text/plain": [
       "plot without title"
      ]
     },
     "metadata": {
      "image/png": {
       "height": 420,
       "width": 420
      }
     },
     "output_type": "display_data"
    }
   ],
   "source": [
    "library(ggplot2)\n",
    "library(dplyr)\n",
    "\n",
    "# Group by ProductName and summarize total revenue (TotalSaleUSD)\n",
    "bottom_products <- grocery_data_grouped %>%\n",
    "  group_by(ProductName) %>%\n",
    "  summarize(TotalRevenue = sum(TotalSaleUSD)) %>%  # Summing up TotalSaleUSD for each product\n",
    "  arrange(TotalRevenue) %>%  # Sorting the data by TotalRevenue in ascending order\n",
    "  head(10)  # Getting the bottom 10 products with the least revenue\n",
    "\n",
    "# Create a bar chart with numbers on the bars for the bottom 10 products\n",
    "ggplot(bottom_products, aes(x = reorder(ProductName, TotalRevenue), y = TotalRevenue)) +\n",
    "  geom_bar(stat = \"identity\", fill = \"#FF5733\", width = 0.7) +  # orange bars for the bottom products\n",
    "  coord_flip() +  # Flip coordinates for horizontal bars\n",
    "  labs(title = \"Bottom 10 Products by Revenue\", x = \"Product Name\", y = \"Total Revenue (USD)\") +\n",
    "  theme_minimal() +\n",
    "  theme(\n",
    "    plot.title = element_text(size = 16, face = \"bold\", hjust = 0.5),\n",
    "    axis.title = element_text(size = 12),\n",
    "    axis.text = element_text(size = 10),\n",
    "    panel.grid.major.y = element_line(color = \"gray\", size = 0.2),\n",
    "    panel.grid.minor = element_blank()\n",
    "  ) +\n",
    "  geom_text(aes(label = scales::comma(TotalRevenue)), # Adding numbers to the bars\n",
    "            position = position_stack(vjust = 0.5), # Centers the text inside the bars\n",
    "            size = 4, color = \"white\", fontface = \"bold\") # Styling the text\n",
    "\n"
   ]
  },
  {
   "cell_type": "markdown",
   "id": "8a6fb3b0",
   "metadata": {},
   "source": [
    "# Summary of Sales Analysis\n",
    "\n",
    "In this analysis, we have explored various aspects of sales data, focusing on understanding key sales patterns, identifying trends, and analyzing customer behavior. The following key insights were derived:\n",
    "\n",
    "1. **Weekly Sales Consistency:**\n",
    "   - We identified the week with the smallest deviation from the mean sales, indicating a period of stable sales.\n",
    "   - Weeks with significant deviations (both high and low) were examined, highlighting potential areas of concern or opportunity for the business.\n",
    "   - Several weeks with above-average sales were also analyzed, shedding light on periods of strong demand that may be driven by marketing efforts, promotions, or seasonal factors.\n",
    "\n",
    "2. **Hourly Sales Analysis:**\n",
    "   - We computed the total sales for each hour of the day, revealing peak sales hours.\n",
    "   - These insights can be used to optimize staffing, promotions, and operational efforts during high-sales periods, potentially increasing overall revenue.\n",
    "\n",
    "3. **Product-Specific Analysis:**\n",
    "   - We performed a detailed analysis of purchases for specific products, such as Milk, by individual customers, providing insights into purchasing frequency, amounts spent, and preferred payment methods.\n",
    "   - This analysis could inform personalized marketing strategies and inventory management.\n",
    "\n",
    "### Conclusion\n",
    "\n",
    "The analysis presented above provides valuable insights into sales trends, customer purchasing behavior, and operational optimization opportunities. However, it is important to note that this is not an exhaustive analysis. The data holds vast potential for deeper exploration. There is much more that can be done with the data, including further segmentation of customer behavior, predictive modeling for sales forecasting, and more detailed time-series analysis to uncover seasonal trends or the impact of specific marketing campaigns.\n",
    "\n",
    "This analysis represents only a portion of the broader potential insights this imaginary company can extract to improve decision-making and drive business growth.\n"
   ]
  }
 ],
 "metadata": {
  "kernelspec": {
   "display_name": "R",
   "language": "R",
   "name": "ir"
  },
  "language_info": {
   "codemirror_mode": "r",
   "file_extension": ".r",
   "mimetype": "text/x-r-source",
   "name": "R",
   "pygments_lexer": "r",
   "version": "4.4.1"
  }
 },
 "nbformat": 4,
 "nbformat_minor": 5
}
